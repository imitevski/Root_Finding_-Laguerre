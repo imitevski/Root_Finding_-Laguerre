{
 "cells": [
  {
   "cell_type": "markdown",
   "metadata": {},
   "source": [
    "# Laguerre Iteration"
   ]
  },
  {
   "cell_type": "markdown",
   "metadata": {},
   "source": [
    "Laguerre's method is a root-finding algorithm that has cubic convergence and it is almost always guaranteed to converge to some root of the polynomial. More info can be found at H.J.Orchard's paper $\\href{https://ieeexplore.ieee.org/document/41294}{\\text{The Laguerre method for finding the zeros of polynomials}}$. The algorithm uses the following iteration scheme: \n",
    "$$x_{k+1} = x_k +  n / ( - \\mu (x) + s \\sqrt{ (n-1)  (- n  \\mu^{'}(x) - \\mu^2(x)) }$$\n",
    "where $\\mu(x)=f^{'}(x)/f(x)$ and $s=\\pm 1$ depending on when it will provide maximum value in the denominator for $x_{k+1}$."
   ]
  },
  {
   "cell_type": "code",
   "execution_count": 4,
   "metadata": {},
   "outputs": [],
   "source": [
    "import numpy as np\n",
    "import sympy\n",
    "import cmath\n",
    "import matplotlib.pyplot as plt\n",
    "\n",
    "def Lagg(f, x0, n, k, tol):\n",
    "    '''\n",
    "    :param f: function you want to find the roots with variable z (it can be used for complex & real functions)\n",
    "    :param x_k: the iniitial guess\n",
    "    :param n: order of polynomial ( e.g. n=1 for p(z) = z**2 -1 )\n",
    "    :param k: up to what iteration are we finding x, x_k\n",
    "    :return: x_k_1, i where \"x_k_1\" is the root and \"i\" is the number of iterations it took\n",
    "    '''\n",
    "    z = sympy.symbols('z')\n",
    "    f_pr = sympy.lambdify(z, sympy.diff(f(z),z))\n",
    "    mu = lambda z: f_pr(z)/f(z)\n",
    "    mu_pr = sympy.lambdify(z, sympy.diff(mu(z),z))\n",
    "\n",
    "    x_k = x0\n",
    "    for i in range(k+1):\n",
    "        s = 1\n",
    "        x1 = np.abs(-f_pr(x_k)/f(x_k)+s*np.sqrt((n-1)*(-n*mu_pr(x_k) - mu(x_k)**2)))\n",
    "        x2 = np.abs(-f_pr(x_k)/f(x_k)-s*np.sqrt((n-1)*(-n*mu_pr(x_k) - mu(x_k)**2)))\n",
    "        if x2 > x1:\n",
    "            s = -1\n",
    "        if x2 < x1:\n",
    "            s = 1\n",
    "\n",
    "        x_k_1 = x_k + n / ( - mu(x_k) + s * cmath.sqrt( (n-1) * (- n * mu_pr(x_k) - mu(x_k)*mu(x_k) ) ) )\n",
    "\n",
    "        if np.abs(x_k_1 - x_k) < tol:\n",
    "            break\n",
    "            \n",
    "        x_k = x_k_1\n",
    "    return x_k, i\n"
   ]
  },
  {
   "cell_type": "markdown",
   "metadata": {},
   "source": [
    "Here is some sample code for testing the function"
   ]
  },
  {
   "cell_type": "code",
   "execution_count": 6,
   "metadata": {},
   "outputs": [
    {
     "name": "stderr",
     "output_type": "stream",
     "text": [
      "//anaconda/envs/keras/lib/python3.6/site-packages/ipykernel_launcher.py:6: ComplexWarning: Casting complex values to real discards the imaginary part\n",
      "  \n"
     ]
    },
    {
     "data": {
      "text/plain": [
       "Text(0, 0.5, 'Number of Iterations')"
      ]
     },
     "execution_count": 6,
     "metadata": {},
     "output_type": "execute_result"
    },
    {
     "data": {
      "image/png": "[encoded data removed]",
      "text/plain": [
       "<Figure size 432x288 with 1 Axes>"
      ]
     },
     "metadata": {
      "needs_background": "light"
     },
     "output_type": "display_data"
    },
    {
     "data": {
      "image/png": "[encoded data removed]",
      "text/plain": [
       "<Figure size 432x288 with 1 Axes>"
      ]
     },
     "metadata": {
      "needs_background": "light"
     },
     "output_type": "display_data"
    }
   ],
   "source": [
    "#sample code testing the function\n",
    "x0_array = np.linspace(-100,100,30)\n",
    "store = np.zeros((len(x0_array),3)) # 1st column for x_k, 2nd for # of iter., 3rd for x0\n",
    "\n",
    "for i,x0_s in enumerate(x0_array):\n",
    "    store[i,0] = Lagg(f = lambda z: z**2 - 1,x0 = x0_s,n=2,k=10,tol=10**(-5))[0]\n",
    "    store[i,1] = Lagg(f = lambda z: z**2 - 1,x0 = x0_s,n=2,k=10,tol=10**(-5))[1]\n",
    "    store[i,2] = x0_s\n",
    "\n",
    "fig = plt.figure(1)\n",
    "axes = fig.add_subplot(1, 1, 1)\n",
    "axes.plot(store[:,2], store[:,0], 'x')\n",
    "axes.set_title('Initial Value Selection Versus Root Obtained')\n",
    "axes.set_xlabel(\"$x_0$\")\n",
    "axes.set_ylabel(\"$Root$\")\n",
    "\n",
    "fig = plt.figure(2)\n",
    "axes = fig.add_subplot(1, 1, 1)\n",
    "axes.plot(store[:,2], store[:,1], 'x')\n",
    "axes.set_title('Initial Value Selection Versus Number of Iterations to convergence')\n",
    "axes.set_xlabel(\"$x_0$\")\n",
    "axes.set_ylabel(\"Number of Iterations\")"
   ]
  }
 ],
 "metadata": {
  "kernelspec": {
   "display_name": "Python 3",
   "language": "python",
   "name": "python3"
  },
  "language_info": {
   "codemirror_mode": {
    "name": "ipython",
    "version": 3
   },
   "file_extension": ".py",
   "mimetype": "text/x-python",
   "name": "python",
   "nbconvert_exporter": "python",
   "pygments_lexer": "ipython3",
   "version": "3.6.6"
  }
 },
 "nbformat": 4,
 "nbformat_minor": 2
}
